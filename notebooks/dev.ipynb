{
 "cells": [
  {
   "cell_type": "code",
   "metadata": {
    "ExecuteTime": {
     "end_time": "2025-05-13T04:16:10.464989Z",
     "start_time": "2025-05-13T04:16:10.460707Z"
    }
   },
   "source": [
    "print('testing kernel')"
   ],
   "outputs": [
    {
     "name": "stdout",
     "output_type": "stream",
     "text": [
      "testing kernel\n"
     ]
    }
   ],
   "execution_count": 1
  },
  {
   "metadata": {
    "ExecuteTime": {
     "end_time": "2025-05-13T04:19:48.063451Z",
     "start_time": "2025-05-13T04:19:48.048261Z"
    }
   },
   "cell_type": "code",
   "source": [
    "import cloudinary\n",
    "import cloudinary.api"
   ],
   "outputs": [],
   "execution_count": 10
  },
  {
   "metadata": {
    "ExecuteTime": {
     "end_time": "2025-05-13T04:16:10.499099Z",
     "start_time": "2025-05-13T04:16:10.494411Z"
    }
   },
   "cell_type": "code",
   "source": [
    "from dotenv import load_dotenv, find_dotenv\n",
    "import os"
   ],
   "outputs": [],
   "execution_count": 3
  },
  {
   "metadata": {
    "ExecuteTime": {
     "end_time": "2025-05-13T04:16:10.503741Z",
     "start_time": "2025-05-13T04:16:10.499753Z"
    }
   },
   "cell_type": "code",
   "source": [
    "path = find_dotenv()\n",
    "load_dotenv(path)"
   ],
   "outputs": [
    {
     "data": {
      "text/plain": [
       "True"
      ]
     },
     "execution_count": 4,
     "metadata": {},
     "output_type": "execute_result"
    }
   ],
   "execution_count": 4
  },
  {
   "metadata": {
    "ExecuteTime": {
     "end_time": "2025-05-13T04:16:10.506960Z",
     "start_time": "2025-05-13T04:16:10.505167Z"
    }
   },
   "cell_type": "code",
   "source": "print(path)",
   "outputs": [
    {
     "name": "stdout",
     "output_type": "stream",
     "text": [
      "/Users/robertwallace/Desktop/Upwork/audio_transcription/audio_transcription/.env\n"
     ]
    }
   ],
   "execution_count": 5
  },
  {
   "metadata": {
    "ExecuteTime": {
     "end_time": "2025-05-13T04:16:10.509208Z",
     "start_time": "2025-05-13T04:16:10.507514Z"
    }
   },
   "cell_type": "code",
   "source": [
    "cloud_api_key = os.getenv('CLOUD_API_KEY')\n",
    "cloud_api_secret = os.getenv('CLOUD_API_SECRET')\n",
    "cloud_name = os.getenv('CLOUD_NAME')"
   ],
   "outputs": [],
   "execution_count": 6
  },
  {
   "metadata": {
    "ExecuteTime": {
     "end_time": "2025-05-13T04:17:50.722449Z",
     "start_time": "2025-05-13T04:17:50.717487Z"
    }
   },
   "cell_type": "code",
   "source": "cloudinary",
   "outputs": [
    {
     "data": {
      "text/plain": [
       "<module 'cloudinary' from '/Users/robertwallace/Library/Caches/pypoetry/virtualenvs/audio-transcription-Jq0GJ4Fm-py3.12/lib/python3.12/site-packages/cloudinary/__init__.py'>"
      ]
     },
     "execution_count": 9,
     "metadata": {},
     "output_type": "execute_result"
    }
   ],
   "execution_count": 9
  },
  {
   "metadata": {
    "ExecuteTime": {
     "end_time": "2025-05-13T04:19:56.661867Z",
     "start_time": "2025-05-13T04:19:56.656095Z"
    }
   },
   "cell_type": "code",
   "source": [
    "cloudinary.config(\n",
    "    cloud_name=cloud_name,\n",
    "    api_key=cloud_api_key,\n",
    "    api_secret=cloud_api_secret,\n",
    "    secure=True\n",
    ")"
   ],
   "outputs": [
    {
     "data": {
      "text/plain": [
       "<cloudinary.Config at 0x108d99f10>"
      ]
     },
     "execution_count": 11,
     "metadata": {},
     "output_type": "execute_result"
    }
   ],
   "execution_count": 11
  },
  {
   "metadata": {
    "ExecuteTime": {
     "end_time": "2025-05-13T04:19:59.980667Z",
     "start_time": "2025-05-13T04:19:59.366658Z"
    }
   },
   "cell_type": "code",
   "source": "res = cloudinary.api.resources(resource_type='video')",
   "outputs": [],
   "execution_count": 12
  },
  {
   "metadata": {
    "ExecuteTime": {
     "end_time": "2025-05-13T04:20:03.500314Z",
     "start_time": "2025-05-13T04:20:03.496056Z"
    }
   },
   "cell_type": "code",
   "source": "res",
   "outputs": [
    {
     "data": {
      "text/plain": [
       "{'resources': [{'asset_id': '90c2766012b72bf3897f39d6ba8f804a',\n",
       "   'public_id': 'audios/Adam Craves/zp5haio4jyix0qrvbsnu',\n",
       "   'format': 'mp3',\n",
       "   'version': 1747098802,\n",
       "   'resource_type': 'video',\n",
       "   'type': 'upload',\n",
       "   'created_at': '2025-05-13T01:13:22Z',\n",
       "   'bytes': 58803008,\n",
       "   'width': 0,\n",
       "   'height': 0,\n",
       "   'folder': 'audios/Adam Craves',\n",
       "   'access_mode': 'public',\n",
       "   'url': 'http://res.cloudinary.com/quinn-cloudinary/video/upload/v1747098802/audios/Adam%20Craves/zp5haio4jyix0qrvbsnu.mp3',\n",
       "   'secure_url': 'https://res.cloudinary.com/quinn-cloudinary/video/upload/v1747098802/audios/Adam%20Craves/zp5haio4jyix0qrvbsnu.mp3',\n",
       "   'is_audio': True},\n",
       "  {'asset_id': '3433d710c2d15aee3d3e7323feccf903',\n",
       "   'public_id': 'creators/production/7wGHyAcqOjJyEsOzhmIQCN/e4v000ud2jwtjxedyifr',\n",
       "   'format': 'mp4',\n",
       "   'version': 1747097614,\n",
       "   'resource_type': 'video',\n",
       "   'type': 'upload',\n",
       "   'created_at': '2025-05-13T00:53:34Z',\n",
       "   'bytes': 25290738,\n",
       "   'width': 0,\n",
       "   'height': 0,\n",
       "   'folder': 'creators/production/7wGHyAcqOjJyEsOzhmIQCN',\n",
       "   'access_mode': 'public',\n",
       "   'url': 'http://res.cloudinary.com/quinn-cloudinary/video/upload/v1747097614/creators/production/7wGHyAcqOjJyEsOzhmIQCN/e4v000ud2jwtjxedyifr.mp4',\n",
       "   'secure_url': 'https://res.cloudinary.com/quinn-cloudinary/video/upload/v1747097614/creators/production/7wGHyAcqOjJyEsOzhmIQCN/e4v000ud2jwtjxedyifr.mp4'},\n",
       "  {'asset_id': '350248e96f38d2c7d80a85dde0bb4140',\n",
       "   'public_id': 'creators/production/23ZQlewI6WQWOGfRDY1TpM/ydvpcqt12jkcef2zhggm',\n",
       "   'format': 'mp4',\n",
       "   'version': 1747094455,\n",
       "   'resource_type': 'video',\n",
       "   'type': 'upload',\n",
       "   'created_at': '2025-05-13T00:00:55Z',\n",
       "   'bytes': 15842398,\n",
       "   'width': 0,\n",
       "   'height': 0,\n",
       "   'folder': 'creators/production/23ZQlewI6WQWOGfRDY1TpM',\n",
       "   'access_mode': 'public',\n",
       "   'url': 'http://res.cloudinary.com/quinn-cloudinary/video/upload/v1747094455/creators/production/23ZQlewI6WQWOGfRDY1TpM/ydvpcqt12jkcef2zhggm.mp4',\n",
       "   'secure_url': 'https://res.cloudinary.com/quinn-cloudinary/video/upload/v1747094455/creators/production/23ZQlewI6WQWOGfRDY1TpM/ydvpcqt12jkcef2zhggm.mp4'},\n",
       "  {'asset_id': '3043fc96c9583845475db684e578e1a7',\n",
       "   'public_id': 'creators/production/23ZQlewI6WQWOGfRDY1TpM/bvqihyyujjq1w3ok4alf',\n",
       "   'format': 'mp4',\n",
       "   'version': 1747094354,\n",
       "   'resource_type': 'video',\n",
       "   'type': 'upload',\n",
       "   'created_at': '2025-05-12T23:59:14Z',\n",
       "   'bytes': 15842398,\n",
       "   'width': 0,\n",
       "   'height': 0,\n",
       "   'folder': 'creators/production/23ZQlewI6WQWOGfRDY1TpM',\n",
       "   'access_mode': 'public',\n",
       "   'url': 'http://res.cloudinary.com/quinn-cloudinary/video/upload/v1747094354/creators/production/23ZQlewI6WQWOGfRDY1TpM/bvqihyyujjq1w3ok4alf.mp4',\n",
       "   'secure_url': 'https://res.cloudinary.com/quinn-cloudinary/video/upload/v1747094354/creators/production/23ZQlewI6WQWOGfRDY1TpM/bvqihyyujjq1w3ok4alf.mp4'},\n",
       "  {'asset_id': 'ba15b96fa0ab733a6130d849fb55ccaf',\n",
       "   'public_id': 'creators/production/7uBcxYDc2wBhxXsZU856GE/radcovtc4nakrqqlzq2p',\n",
       "   'format': 'mp4',\n",
       "   'version': 1747094019,\n",
       "   'resource_type': 'video',\n",
       "   'type': 'upload',\n",
       "   'created_at': '2025-05-12T23:53:39Z',\n",
       "   'bytes': 19323401,\n",
       "   'width': 0,\n",
       "   'height': 0,\n",
       "   'folder': 'creators/production/7uBcxYDc2wBhxXsZU856GE',\n",
       "   'access_mode': 'public',\n",
       "   'url': 'http://res.cloudinary.com/quinn-cloudinary/video/upload/v1747094019/creators/production/7uBcxYDc2wBhxXsZU856GE/radcovtc4nakrqqlzq2p.mp4',\n",
       "   'secure_url': 'https://res.cloudinary.com/quinn-cloudinary/video/upload/v1747094019/creators/production/7uBcxYDc2wBhxXsZU856GE/radcovtc4nakrqqlzq2p.mp4'},\n",
       "  {'asset_id': '5af7278d7f41265608aab13d2cd9a647',\n",
       "   'public_id': 'audios/Naudio/lmnwxgxhohhprpcm2huz',\n",
       "   'format': 'mp3',\n",
       "   'version': 1747067994,\n",
       "   'resource_type': 'video',\n",
       "   'type': 'upload',\n",
       "   'created_at': '2025-05-12T16:39:54Z',\n",
       "   'bytes': 55609920,\n",
       "   'width': 0,\n",
       "   'height': 0,\n",
       "   'folder': 'audios/Naudio',\n",
       "   'access_mode': 'public',\n",
       "   'url': 'http://res.cloudinary.com/quinn-cloudinary/video/upload/v1747067994/audios/Naudio/lmnwxgxhohhprpcm2huz.mp3',\n",
       "   'secure_url': 'https://res.cloudinary.com/quinn-cloudinary/video/upload/v1747067994/audios/Naudio/lmnwxgxhohhprpcm2huz.mp3',\n",
       "   'is_audio': True},\n",
       "  {'asset_id': '673b82aab984669dbf52b74bec086d6d',\n",
       "   'public_id': 'creators/production/4OfU7klLI4vpUjUZZLs0d7/cee9gjifpcgignb2afur',\n",
       "   'format': 'mp4',\n",
       "   'version': 1747066412,\n",
       "   'resource_type': 'video',\n",
       "   'type': 'upload',\n",
       "   'created_at': '2025-05-12T16:13:32Z',\n",
       "   'bytes': 30607969,\n",
       "   'width': 0,\n",
       "   'height': 0,\n",
       "   'folder': 'creators/production/4OfU7klLI4vpUjUZZLs0d7',\n",
       "   'access_mode': 'public',\n",
       "   'url': 'http://res.cloudinary.com/quinn-cloudinary/video/upload/v1747066412/creators/production/4OfU7klLI4vpUjUZZLs0d7/cee9gjifpcgignb2afur.mp4',\n",
       "   'secure_url': 'https://res.cloudinary.com/quinn-cloudinary/video/upload/v1747066412/creators/production/4OfU7klLI4vpUjUZZLs0d7/cee9gjifpcgignb2afur.mp4'},\n",
       "  {'asset_id': '9e58a834801ff56adde962c2c6ce1f66',\n",
       "   'public_id': 'creators/production/2RqRmxDaqfqnDLvvLrIhEI/32d083b1-5b52-4cb7-866d-270299a845cd',\n",
       "   'format': 'mp4',\n",
       "   'version': 1747066181,\n",
       "   'resource_type': 'video',\n",
       "   'type': 'upload',\n",
       "   'created_at': '2025-05-12T16:09:41Z',\n",
       "   'bytes': 31844757,\n",
       "   'width': 0,\n",
       "   'height': 0,\n",
       "   'folder': 'creators/production/2RqRmxDaqfqnDLvvLrIhEI',\n",
       "   'access_mode': 'public',\n",
       "   'url': 'http://res.cloudinary.com/quinn-cloudinary/video/upload/v1747066181/creators/production/2RqRmxDaqfqnDLvvLrIhEI/32d083b1-5b52-4cb7-866d-270299a845cd.mp4',\n",
       "   'secure_url': 'https://res.cloudinary.com/quinn-cloudinary/video/upload/v1747066181/creators/production/2RqRmxDaqfqnDLvvLrIhEI/32d083b1-5b52-4cb7-866d-270299a845cd.mp4'},\n",
       "  {'asset_id': 'c4f92d6ede0512b61baf34d3e5dffd94',\n",
       "   'public_id': 'creators/production/5Scjb2ANFDrGCGCvnVestg/dfoynvtztgvgu6dps02x',\n",
       "   'format': 'mp4',\n",
       "   'version': 1747065253,\n",
       "   'resource_type': 'video',\n",
       "   'type': 'upload',\n",
       "   'created_at': '2025-05-12T15:54:13Z',\n",
       "   'bytes': 14649730,\n",
       "   'width': 0,\n",
       "   'height': 0,\n",
       "   'folder': 'creators/production/5Scjb2ANFDrGCGCvnVestg',\n",
       "   'access_mode': 'public',\n",
       "   'url': 'http://res.cloudinary.com/quinn-cloudinary/video/upload/v1747065253/creators/production/5Scjb2ANFDrGCGCvnVestg/dfoynvtztgvgu6dps02x.mp4',\n",
       "   'secure_url': 'https://res.cloudinary.com/quinn-cloudinary/video/upload/v1747065253/creators/production/5Scjb2ANFDrGCGCvnVestg/dfoynvtztgvgu6dps02x.mp4'},\n",
       "  {'asset_id': '74e5f77cd8cd8167939c86b84ac34c83',\n",
       "   'public_id': 'creators/dev/1naeVTcaaUd1jFhMwMuOEB/dvwusjpdufizvl0w4pwe',\n",
       "   'format': 'mp4',\n",
       "   'version': 1747064926,\n",
       "   'resource_type': 'video',\n",
       "   'type': 'upload',\n",
       "   'created_at': '2025-05-12T15:48:46Z',\n",
       "   'bytes': 63702,\n",
       "   'width': 0,\n",
       "   'height': 0,\n",
       "   'folder': 'creators/dev/1naeVTcaaUd1jFhMwMuOEB',\n",
       "   'access_mode': 'public',\n",
       "   'url': 'http://res.cloudinary.com/quinn-cloudinary/video/upload/v1747064926/creators/dev/1naeVTcaaUd1jFhMwMuOEB/dvwusjpdufizvl0w4pwe.mp4',\n",
       "   'secure_url': 'https://res.cloudinary.com/quinn-cloudinary/video/upload/v1747064926/creators/dev/1naeVTcaaUd1jFhMwMuOEB/dvwusjpdufizvl0w4pwe.mp4'}],\n",
       " 'next_cursor': '1db12e0242add70cee7dcedf8e4b7a630eccca68169261ffac294908e9161885'}"
      ]
     },
     "execution_count": 13,
     "metadata": {},
     "output_type": "execute_result"
    }
   ],
   "execution_count": 13
  },
  {
   "metadata": {},
   "cell_type": "code",
   "outputs": [],
   "execution_count": null,
   "source": ""
  }
 ],
 "metadata": {
  "kernelspec": {
   "display_name": "Python (poetry-env)",
   "language": "python",
   "name": "poetry-env"
  },
  "language_info": {
   "codemirror_mode": {
    "name": "ipython",
    "version": 3
   },
   "file_extension": ".py",
   "mimetype": "text/x-python",
   "name": "python",
   "nbconvert_exporter": "python",
   "pygments_lexer": "ipython3",
   "version": "3.12.7"
  }
 },
 "nbformat": 4,
 "nbformat_minor": 2
}
