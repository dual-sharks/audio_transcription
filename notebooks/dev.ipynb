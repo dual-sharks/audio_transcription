{
 "cells": [
  {
   "cell_type": "code",
   "execution_count": null,
   "metadata": {
    "ExecuteTime": {
     "end_time": "2025-05-13T04:19:48.063451Z",
     "start_time": "2025-05-13T04:19:48.048261Z"
    }
   },
   "outputs": [],
   "source": [
    "from dotenv import load_dotenv, find_dotenv\n",
    "import os\n",
    "\n",
    "import cloudinary\n",
    "\n",
    "import cloudinary.api"
   ]
  },
  {
   "cell_type": "code",
   "execution_count": 32,
   "metadata": {
    "ExecuteTime": {
     "end_time": "2025-05-13T04:16:10.503741Z",
     "start_time": "2025-05-13T04:16:10.499753Z"
    }
   },
   "outputs": [],
   "source": [
    "import os\n",
    "from pathlib import Path\n",
    "from dotenv import load_dotenv\n",
    "\n",
    "project_root = Path.cwd().parent\n",
    "load_dotenv(project_root / '.env')\n",
    "\n",
    "cloud_api_key = os.getenv('CLOUD_API_KEY')\n",
    "cloud_api_secret = os.getenv('CLOUD_API_SECRET')\n",
    "cloud_name = 'quinn-cloudinary'\n"
   ]
  },
  {
   "cell_type": "code",
   "execution_count": null,
   "metadata": {},
   "outputs": [],
   "source": [
    "import cloudinary\n",
    "import cloudinary.api\n",
    "from pathlib import Path\n",
    "import os\n",
    "\n",
    "class CloudinaryHandler:\n",
    "    def __init__(self, cloud_name: str, api_key: str, api_secret: str):\n",
    "        \"\"\"\n",
    "        Initialize CloudinaryHandler with credentials.\n",
    "        \n",
    "        Args:\n",
    "            cloud_name: Cloudinary cloud name\n",
    "            api_key: Cloudinary API key\n",
    "            api_secret: Cloudinary API secret\n",
    "        \"\"\"\n",
    "        self.cloud_name = cloud_name\n",
    "        self.api_key = api_key\n",
    "        self.api_secret = api_secret\n",
    "        self._configure_cloudinary()\n",
    "        \n",
    "    def _configure_cloudinary(self):\n",
    "        \"\"\"Configure Cloudinary with the provided credentials.\"\"\"\n",
    "        cloudinary.config(\n",
    "            cloud_name=self.cloud_name,\n",
    "            api_key=self.api_key,\n",
    "            api_secret=self.api_secret,\n",
    "            secure=True\n",
    "        )\n",
    "    \n",
    "    def _change_mp4_format(self, url: str) -> str:\n",
    "        \"\"\"Convert MP4 URL to MP3 format.\"\"\"\n",
    "        return url.replace('.mp4', '.mp3')\n",
    "    \n",
    "    def pull_audio_details(self, max_results: int = 10) -> dict:\n",
    "        \"\"\"\n",
    "        Fetches video resources from Cloudinary and converts their URLs to MP3 format.\n",
    "        \n",
    "        Args:\n",
    "            max_results: Maximum number of video resources to fetch.\n",
    "            \n",
    "        Returns:\n",
    "            A dictionary of Asset objects with modified MP3 URLs.\n",
    "        \"\"\"\n",
    "        resp = cloudinary.api.resources(resource_type=\"video\", max_results=max_results)\n",
    "        asset_dict = {}\n",
    "        \n",
    "        audio_dir = Path(\"app/static/audio\")\n",
    "        audio_dir.mkdir(parents=True, exist_ok=True)\n",
    "        \n",
    "        \n",
    "        for resource in resp[\"resources\"]:\n",
    "            filename = f\"{resource['asset_id']}.mp3\"\n",
    "            file_path = audio_dir / filename\n",
    "            \n",
    "            formatted_url = self._change_mp4_format(resource[\"secure_url\"])\n",
    "            \n",
    "            asset_dict[resource[\"asset_id\"]] = {\n",
    "                \"public_id\": resource[\"public_id\"],\n",
    "                \"asset_id\": resource[\"asset_id\"],\n",
    "                \"secure_url\": formatted_url,\n",
    "                \"audio_path\": file_path,\n",
    "                \"captions\": None\n",
    "            }\n",
    "            \n",
    "        return asset_dict\n",
    "\n",
    "\n",
    "handler = CloudinaryHandler(\n",
    "    cloud_name=cloud_name,\n",
    "    api_key=cloud_api_key,\n",
    "    api_secret=cloud_api_secret\n",
    ")\n",
    "\n",
    "audio_details = handler.pull_audio_details()\n",
    "print(f\"Found {len(audio_details)} audio resources\")\n",
    "for asset_id, details in audio_details.items():\n",
    "    print(f\"\\nAsset ID: {asset_id}\")\n",
    "    print(f\"Public ID: {details['public_id']}\")\n",
    "    print(f\"URL: {details['secure_url']}\")\n",
    "    print(f\"Local path: {details['audio_path']}\")\n"
   ]
  }
 ],
 "metadata": {
  "kernelspec": {
   "display_name": "audio-transcription--LhZsTrC-py3.12",
   "language": "python",
   "name": "python3"
  },
  "language_info": {
   "codemirror_mode": {
    "name": "ipython",
    "version": 3
   },
   "file_extension": ".py",
   "mimetype": "text/x-python",
   "name": "python",
   "nbconvert_exporter": "python",
   "pygments_lexer": "ipython3",
   "version": "3.12.7"
  }
 },
 "nbformat": 4,
 "nbformat_minor": 2
}
