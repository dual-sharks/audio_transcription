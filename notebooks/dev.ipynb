{
 "cells": [
  {
   "cell_type": "code",
   "execution_count": null,
   "metadata": {
    "ExecuteTime": {
     "end_time": "2025-05-13T04:19:48.063451Z",
     "start_time": "2025-05-13T04:19:48.048261Z"
    }
   },
   "outputs": [],
   "source": [
    "from dotenv import load_dotenv, find_dotenv\n",
    "import os\n",
    "\n",
    "import cloudinary\n",
    "\n",
    "import cloudinary.api"
   ]
  },
  {
   "cell_type": "code",
   "execution_count": 42,
   "metadata": {
    "ExecuteTime": {
     "end_time": "2025-05-13T04:16:10.503741Z",
     "start_time": "2025-05-13T04:16:10.499753Z"
    }
   },
   "outputs": [],
   "source": [
    "import os\n",
    "from pathlib import Path\n",
    "from dotenv import load_dotenv\n",
    "\n",
    "project_root = Path.cwd().parent\n",
    "load_dotenv(project_root / '.env')\n",
    "\n",
    "cloud_api_key = os.getenv('CLOUD_API_KEY')\n",
    "cloud_api_secret = os.getenv('CLOUD_API_SECRET')\n",
    "cloud_name = 'quinn-cloudinary'\n"
   ]
  },
  {
   "cell_type": "code",
   "execution_count": 1,
   "metadata": {},
   "outputs": [
    {
     "name": "stdout",
     "output_type": "stream",
     "text": [
      "Found 10 assets\n"
     ]
    }
   ],
   "source": [
    "import sys\n",
    "from pathlib import Path\n",
    "\n",
    "project_root = Path.cwd().parent\n",
    "sys.path.append(str(project_root))\n",
    "\n",
    "from app.api.handlers.cloudinary import CloudinaryHandler\n",
    "\n",
    "handler = CloudinaryHandler.from_env()\n",
    "\n",
    "assets = handler.pull_audio_details()\n",
    "print(f\"Found {len(assets)} assets\")"
   ]
  },
  {
   "cell_type": "code",
   "execution_count": null,
   "metadata": {},
   "outputs": [],
   "source": []
  }
 ],
 "metadata": {
  "kernelspec": {
   "display_name": "audio-transcription--LhZsTrC-py3.12",
   "language": "python",
   "name": "python3"
  },
  "language_info": {
   "codemirror_mode": {
    "name": "ipython",
    "version": 3
   },
   "file_extension": ".py",
   "mimetype": "text/x-python",
   "name": "python",
   "nbconvert_exporter": "python",
   "pygments_lexer": "ipython3",
   "version": "3.12.7"
  }
 },
 "nbformat": 4,
 "nbformat_minor": 2
}
